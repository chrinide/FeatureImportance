{
 "cells": [
  {
   "cell_type": "code",
   "execution_count": 1,
   "metadata": {
    "collapsed": true
   },
   "outputs": [],
   "source": [
    "import numpy as np\n",
    "import pandas as pd\n",
    "\n",
    "from sklearn.ensemble import RandomForestClassifier\n",
    "from sklearn.model_selection import train_test_split"
   ]
  },
  {
   "cell_type": "code",
   "execution_count": 41,
   "metadata": {},
   "outputs": [
    {
     "name": "stdout",
     "output_type": "stream",
     "text": [
      "Percent y=1:\t0.8\n",
      "Percent y=0:\t0.2\n"
     ]
    }
   ],
   "source": [
    "## Simulate Data\n",
    "\n",
    "n_obs = 10\n",
    "n_cols = 20\n",
    "\n",
    "X = pd.DataFrame(np.random.rand(n_obs, n_cols), columns=range(n_cols))\n",
    "coefs = np.random.rand(n_cols)\n",
    "coefs[3] = 1000\n",
    "\n",
    "probs = 1 / (1 + np.exp(-(-300 + (coefs*X).sum(axis=1) + 0.1*np.random.normal(size=n_obs))))\n",
    "y = pd.Series([0]*len(probs))\n",
    "y[probs>0.5] = 1\n",
    "print(\"Percent y=1:\\t\" + str(np.sum(y) / float(len(y))))\n",
    "print(\"Percent y=0:\\t\" + str(1 - (np.sum(y) / float(len(y)))))"
   ]
  },
  {
   "cell_type": "code",
   "execution_count": 42,
   "metadata": {
    "collapsed": true
   },
   "outputs": [],
   "source": [
    "## This is the marginal effect for varying from 0.05 to 0.95 percentile\n",
    "## For categorical variable it is effect of varying from 0 to 1\n",
    "def local_marginal_effects(model, X, y):\n",
    "\n",
    "    def determine_categorical_or_continuous(X):\n",
    "        out_dict = {}\n",
    "        for col in X.columns:\n",
    "            if((X[col].max() == 1) & (X[col].min() == 0)):\n",
    "                out_dict[col] = True\n",
    "            else:\n",
    "                out_dict[col] = False\n",
    "        return out_dict\n",
    "\n",
    "    def calculate_effects(row, model, mean_X, categorical_dict):\n",
    "        row_indices = row.index\n",
    "        row = row.values.reshape(1,-1)\n",
    "        out_series = pd.Series(np.nan, index=row_indices)\n",
    "        prediction = rf_model.predict_proba(row)[:,1]\n",
    "        for i, col in enumerate(row_indices.values):\n",
    "            row_old = row.copy()\n",
    "            if(categorical_dict[col]):\n",
    "                row[:,i] = 1-row[:,i]\n",
    "                out_series[col] = prediction - model.predict_proba(row)[:,1]\n",
    "            else:\n",
    "                row[:,i] = mean_X[col]\n",
    "                out_series[col] = prediction - model.predict_proba(row)[:,1]\n",
    "            row = row_old\n",
    "        return out_series\n",
    "\n",
    "    dydx = pd.DataFrame(np.nan, index=X.index, columns=X.columns)\n",
    "    mean_X = X.mean()\n",
    "    categorical_dict = determine_categorical_or_continuous(X)\n",
    "    out_df = X.apply(calculate_effects, axis=1, model=model, mean_X=mean_X, categorical_dict=categorical_dict)       \n",
    "\n",
    "    return out_df"
   ]
  },
  {
   "cell_type": "code",
   "execution_count": 43,
   "metadata": {},
   "outputs": [
    {
     "name": "stdout",
     "output_type": "stream",
     "text": [
      "CPU times: user 0 ns, sys: 0 ns, total: 0 ns\n",
      "Wall time: 46 µs\n",
      "CPU times: user 1.37 s, sys: 304 ms, total: 1.68 s\n",
      "Wall time: 1.63 s\n"
     ]
    },
    {
     "data": {
      "text/plain": [
       "RandomForestClassifier(bootstrap=True, class_weight=None, criterion='gini',\n",
       "            max_depth=None, max_features='auto', max_leaf_nodes=None,\n",
       "            min_impurity_split=1e-07, min_samples_leaf=1,\n",
       "            min_samples_split=2, min_weight_fraction_leaf=0.0,\n",
       "            n_estimators=500, n_jobs=12, oob_score=False,\n",
       "            random_state=None, verbose=0, warm_start=False)"
      ]
     },
     "execution_count": 43,
     "metadata": {},
     "output_type": "execute_result"
    }
   ],
   "source": [
    "## Random Forest\n",
    "\n",
    "%time rf_model = RandomForestClassifier(n_estimators=500, n_jobs=12)\n",
    "%time rf_model.fit(X, y)"
   ]
  },
  {
   "cell_type": "code",
   "execution_count": 44,
   "metadata": {},
   "outputs": [
    {
     "name": "stdout",
     "output_type": "stream",
     "text": [
      "CPU times: user 1min 21s, sys: 28.6 s, total: 1min 50s\n",
      "Wall time: 1min 53s\n"
     ]
    }
   ],
   "source": [
    "%time out_df = local_marginal_effects(rf_model, X, y)"
   ]
  },
  {
   "cell_type": "code",
   "execution_count": 45,
   "metadata": {},
   "outputs": [
    {
     "data": {
      "text/plain": [
       "0    -0.0254\n",
       "1    -0.0074\n",
       "2    -0.0164\n",
       "3    -0.0390\n",
       "4    -0.0038\n",
       "5     0.0012\n",
       "6     0.0002\n",
       "7    -0.0008\n",
       "8    -0.0132\n",
       "9    -0.0106\n",
       "10   -0.0050\n",
       "11   -0.0026\n",
       "12   -0.0094\n",
       "13    0.0022\n",
       "14   -0.0078\n",
       "15   -0.0022\n",
       "16   -0.0208\n",
       "17   -0.0102\n",
       "18   -0.0036\n",
       "19   -0.0004\n",
       "dtype: float64"
      ]
     },
     "execution_count": 45,
     "metadata": {},
     "output_type": "execute_result"
    }
   ],
   "source": [
    "out_df.mean()"
   ]
  },
  {
   "cell_type": "code",
   "execution_count": 7,
   "metadata": {
    "collapsed": true
   },
   "outputs": [],
   "source": [
    "from multiprocessing import Pool\n",
    "\n",
    "def parallelize_dataframe(df, func, num_cores=12, num_partitions=10, **kwargs):\n",
    "    df_split = np.array_split(df, num_partitions)\n",
    "    pool = Pool(num_cores)\n",
    "    df = pd.concat(pool.map(func, df_split, **kwargs))\n",
    "    pool.close()\n",
    "    pool.join()\n",
    "    return df\n",
    "\n",
    "## This is the marginal effect for varying from 0.05 to 0.95 percentile\n",
    "## For categorical variable it is effect of varying from 0 to 1\n",
    "def local_marginal_effects(model, X, y):\n",
    "\n",
    "    def determine_categorical_or_continuous(X):\n",
    "        out_dict = {}\n",
    "        for col in X.columns:\n",
    "            if((X[col].max() == 1) & (X[col].min() == 0)):\n",
    "                out_dict[col] = True\n",
    "            else:\n",
    "                out_dict[col] = False\n",
    "        return out_dict\n",
    "\n",
    "    def calculate_effects(row, model, mean_X, categorical_dict):\n",
    "        row_indices = row.index\n",
    "        row = row.values.reshape(1,-1)\n",
    "        out_series = pd.Series(np.nan, index=row_indices)\n",
    "        prediction = rf_model.predict_proba(row)[:,1]\n",
    "        for i, col in enumerate(row_indices.values):\n",
    "            row_old = row.copy()\n",
    "            if(categorical_dict[col]):\n",
    "                row[:,i] = 1-row[:,i]\n",
    "                out_series[col] = prediction - model.predict_proba(row)[:,1]\n",
    "            else:\n",
    "                row[:,i] = mean_X[col]\n",
    "                out_series[col] = prediction - model.predict_proba(row)[:,1]\n",
    "            row = row_old\n",
    "        return out_series\n",
    "\n",
    "    dydx = pd.DataFrame(np.nan, index=X.index, columns=X.columns)\n",
    "    mean_X = X.mean()\n",
    "    categorical_dict = determine_categorical_or_continuous(X)\n",
    "    #out_df = X.apply(calculate_effects, axis=1, model=model, mean_X=mean_X, categorical_dict=categorical_dict)       \n",
    "    out_df = parallelize_dataframe(X, calculate_effects, model=model, mean_X=mean_X, categorical_dict=categorical_dict)       \n",
    "\n",
    "\n",
    "    return out_df"
   ]
  },
  {
   "cell_type": "code",
   "execution_count": null,
   "metadata": {
    "collapsed": true
   },
   "outputs": [],
   "source": []
  }
 ],
 "metadata": {
  "kernelspec": {
   "display_name": "Python 2",
   "language": "python",
   "name": "python2"
  },
  "language_info": {
   "codemirror_mode": {
    "name": "ipython",
    "version": 2
   },
   "file_extension": ".py",
   "mimetype": "text/x-python",
   "name": "python",
   "nbconvert_exporter": "python",
   "pygments_lexer": "ipython2",
   "version": "2.7.13"
  }
 },
 "nbformat": 4,
 "nbformat_minor": 2
}
