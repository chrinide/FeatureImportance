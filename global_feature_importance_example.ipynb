{
 "cells": [
  {
   "cell_type": "code",
   "execution_count": 1,
   "metadata": {
    "collapsed": true
   },
   "outputs": [],
   "source": [
    "import numpy as np\n",
    "import pandas as pd\n",
    "\n",
    "from sklearn.ensemble import RandomForestClassifier\n",
    "from sklearn.model_selection import train_test_split"
   ]
  },
  {
   "cell_type": "code",
   "execution_count": 2,
   "metadata": {},
   "outputs": [
    {
     "name": "stdout",
     "output_type": "stream",
     "text": [
      "Percent y=1:\t0.6805\n",
      "Percent y=0:\t0.3195\n"
     ]
    }
   ],
   "source": [
    "## Simulate Data\n",
    "\n",
    "n_obs = 2000\n",
    "n_cols = 50\n",
    "\n",
    "X = pd.DataFrame(np.random.rand(n_obs, n_cols), columns=range(n_cols))\n",
    "coefs = np.random.rand(n_cols)\n",
    "coefs[10] = -10\n",
    "\n",
    "probs = 1 / (1 + np.exp(-(-5 + (coefs*X).sum(axis=1) + 0.1*np.random.normal(size=n_obs))))\n",
    "y = pd.Series([0]*len(probs))\n",
    "y[probs>0.5] = 1\n",
    "print(\"Percent y=1:\\t\" + str(np.sum(y) / float(len(y))))\n",
    "print(\"Percent y=0:\\t\" + str(1 - (np.sum(y) / float(len(y)))))"
   ]
  },
  {
   "cell_type": "code",
   "execution_count": 3,
   "metadata": {},
   "outputs": [
    {
     "name": "stdout",
     "output_type": "stream",
     "text": [
      "CPU times: user 0 ns, sys: 0 ns, total: 0 ns\n",
      "Wall time: 56 µs\n",
      "CPU times: user 5.22 s, sys: 340 ms, total: 5.56 s\n",
      "Wall time: 1.66 s\n"
     ]
    },
    {
     "data": {
      "text/plain": [
       "RandomForestClassifier(bootstrap=True, class_weight=None, criterion='gini',\n",
       "            max_depth=None, max_features='auto', max_leaf_nodes=None,\n",
       "            min_impurity_split=1e-07, min_samples_leaf=1,\n",
       "            min_samples_split=2, min_weight_fraction_leaf=0.0,\n",
       "            n_estimators=500, n_jobs=12, oob_score=False,\n",
       "            random_state=None, verbose=0, warm_start=False)"
      ]
     },
     "execution_count": 3,
     "metadata": {},
     "output_type": "execute_result"
    }
   ],
   "source": [
    "## Random Forest\n",
    "\n",
    "%time rf_model = RandomForestClassifier(n_estimators=500, n_jobs=12)\n",
    "%time rf_model.fit(X, y)"
   ]
  },
  {
   "cell_type": "code",
   "execution_count": 4,
   "metadata": {
    "collapsed": true
   },
   "outputs": [],
   "source": [
    "def global_marginal_effects(rf_model, X, epsilon_percent=1.0):\n",
    "    # initialize output\n",
    "    dydx = pd.DataFrame(np.nan, index=X.index, columns=X.columns)\n",
    "    \n",
    "    data_range = X.max() - X.min()\n",
    "    categorical_boolean = (data_range==1)\n",
    "    epsilon = (epsilon_percent / 2 / 100) * data_range\n",
    "    \n",
    "    # populate dydx\n",
    "    for i, col in enumerate(X.columns):\n",
    "        # Store old copy of X[col]\n",
    "        X_old = X[col].copy()\n",
    "        \n",
    "        # Store max and min\n",
    "        Xmax = X[col].max()\n",
    "        Xmin = X[col].min()\n",
    "        \n",
    "        # If categorical set X_hi to 1\n",
    "        if((Xmax == 1) & (Xmin == 0)): X[col] = 1\n",
    "        else: X[col] = X[col] + epsilon[col]\n",
    "        y_hi = rf_model.predict_proba(X)[:,1]\n",
    "        \n",
    "        # If categorical set X_lo to 0\n",
    "        if((Xmax == 1) & (Xmin == 0)): X[col] = 0\n",
    "        else: X[col] = X[col] - epsilon[col]\n",
    "        y_lo = rf_model.predict_proba(X)[:,1]\n",
    "\n",
    "        # Calculate dydx at each point for column\n",
    "        dydx.loc[:, col] = y_hi - y_lo\n",
    "        \n",
    "        # Reset X[col]\n",
    "        X[col] = X_old\n",
    "    \n",
    "    ## Original interpretation is epsilon % of range, new interpretation is 95% of range\n",
    "    dydx.loc[:,~categorical_boolean] = dydx.loc[:,~categorical_boolean] * 95 / epsilon_percent\n",
    "    \n",
    "    return dydx, dydx.mean()"
   ]
  },
  {
   "cell_type": "code",
   "execution_count": 20,
   "metadata": {},
   "outputs": [],
   "source": [
    "## add epsilon as kwarg\n",
    "## add Xmax and Xmin as kwarg\n",
    "def marginal_effects_column(Xcol, rf_model, X, epsilon_percent=1.0):\n",
    "    # Store max and min\n",
    "    Xmax = Xcol.max()\n",
    "    Xmin = Xcol.min()\n",
    "    epsilon = (epsilon_percent / 2 / 100) * (Xmax-Xmin)\n",
    "    \n",
    "    # Check if categorical\n",
    "    if((Xmax == 1) & (Xmin == 0)): is_categorical = True\n",
    "    else: is_categorical=False\n",
    "    \n",
    "    if(is_categorical): Xcol = 1\n",
    "    else: Xcol = Xcol + epsilon\n",
    "    X[Xcol.name] = Xcol\n",
    "    y_hi = rf_model.predict_proba(X)[:,1]\n",
    "\n",
    "    if(is_categorical): Xcol = 0\n",
    "    else: Xcol = Xcol - epsilon\n",
    "    X[Xcol.name] = Xcol\n",
    "    y_lo = rf_model.predict_proba(X)[:,1]\n",
    "\n",
    "    # Calculate dydx at each point for column\n",
    "    dydx = y_hi - y_lo\n",
    "    \n",
    "    ## Original interpretation is epsilon % of range, new interpretation is 95% of range\n",
    "    if(not is_categorical):\n",
    "        dydx = dydx * 95 / epsilon_percent\n",
    "    \n",
    "    return dydx"
   ]
  },
  {
   "cell_type": "code",
   "execution_count": 21,
   "metadata": {
    "collapsed": true
   },
   "outputs": [],
   "source": [
    "from multiprocessing import Pool\n",
    "pool = Pool(5)"
   ]
  },
  {
   "cell_type": "code",
   "execution_count": 23,
   "metadata": {},
   "outputs": [
    {
     "name": "stdout",
     "output_type": "stream",
     "text": [
      "CPU times: user 1.62 s, sys: 740 ms, total: 2.36 s\n",
      "Wall time: 20.9 s\n"
     ]
    }
   ],
   "source": [
    "%%time\n",
    "results = [pool.apply_async(marginal_effects_column, args=(X[x], rf_model, X)) for x in X]\n",
    "output = [p.get() for p in results]"
   ]
  },
  {
   "cell_type": "code",
   "execution_count": 24,
   "metadata": {},
   "outputs": [
    {
     "name": "stdout",
     "output_type": "stream",
     "text": [
      "CPU times: user 48.3 s, sys: 15.6 s, total: 1min 3s\n",
      "Wall time: 56.1 s\n"
     ]
    }
   ],
   "source": [
    "%time dydx, mean = global_marginal_effects(rf_model, X)"
   ]
  },
  {
   "cell_type": "code",
   "execution_count": 25,
   "metadata": {},
   "outputs": [
    {
     "data": {
      "text/plain": [
       "(2000, 50)"
      ]
     },
     "execution_count": 25,
     "metadata": {},
     "output_type": "execute_result"
    }
   ],
   "source": [
    "dydx.shape"
   ]
  },
  {
   "cell_type": "code",
   "execution_count": 26,
   "metadata": {
    "collapsed": true
   },
   "outputs": [],
   "source": [
    "dydx2 = pd.DataFrame(output).transpose()"
   ]
  },
  {
   "cell_type": "code",
   "execution_count": 7,
   "metadata": {},
   "outputs": [
    {
     "data": {
      "text/plain": [
       "0    -0.011875\n",
       "1     0.012065\n",
       "2     0.020330\n",
       "3     0.027455\n",
       "4     0.019190\n",
       "5     0.002090\n",
       "6    -0.005510\n",
       "7    -0.003420\n",
       "8    -0.006175\n",
       "9     0.018430\n",
       "10   -0.376485\n",
       "11    0.041040\n",
       "12   -0.012350\n",
       "13    0.003515\n",
       "14    0.018145\n",
       "15    0.002565\n",
       "16    0.030020\n",
       "17    0.002755\n",
       "18    0.015770\n",
       "19    0.026315\n",
       "20    0.006935\n",
       "21    0.022990\n",
       "22   -0.004940\n",
       "23    0.005415\n",
       "24    0.006270\n",
       "25   -0.018905\n",
       "26    0.036195\n",
       "27    0.005985\n",
       "28    0.006175\n",
       "29    0.001710\n",
       "30    0.000665\n",
       "31    0.000285\n",
       "32   -0.011400\n",
       "33    0.010165\n",
       "34    0.031160\n",
       "35    0.025745\n",
       "36    0.013680\n",
       "37    0.018145\n",
       "38    0.026410\n",
       "39    0.042370\n",
       "40    0.025175\n",
       "41    0.004560\n",
       "42   -0.001520\n",
       "43    0.006460\n",
       "44    0.019000\n",
       "45    0.000665\n",
       "46    0.002185\n",
       "47   -0.012065\n",
       "48    0.026695\n",
       "49    0.017575\n",
       "dtype: float64"
      ]
     },
     "execution_count": 7,
     "metadata": {},
     "output_type": "execute_result"
    }
   ],
   "source": [
    "dydx.mean()"
   ]
  },
  {
   "cell_type": "code",
   "execution_count": null,
   "metadata": {
    "collapsed": true
   },
   "outputs": [],
   "source": [
    "# 4500 features ~ 8 hours\n",
    "# Seems O(n)\n",
    "# 100 features - 638 secs\n",
    "# 30 features - 200 secs\n",
    "# 3 features - 11"
   ]
  }
 ],
 "metadata": {
  "kernelspec": {
   "display_name": "Python 2",
   "language": "python",
   "name": "python2"
  },
  "language_info": {
   "codemirror_mode": {
    "name": "ipython",
    "version": 2
   },
   "file_extension": ".py",
   "mimetype": "text/x-python",
   "name": "python",
   "nbconvert_exporter": "python",
   "pygments_lexer": "ipython2",
   "version": "2.7.13"
  }
 },
 "nbformat": 4,
 "nbformat_minor": 2
}
